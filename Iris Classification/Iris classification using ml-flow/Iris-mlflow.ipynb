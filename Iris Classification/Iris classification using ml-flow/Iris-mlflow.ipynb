{
 "cells": [
  {
   "cell_type": "code",
   "execution_count": 1,
   "metadata": {},
   "outputs": [
    {
     "name": "stdout",
     "output_type": "stream",
     "text": [
      "Accuracy: 1.0\n"
     ]
    },
    {
     "name": "stderr",
     "output_type": "stream",
     "text": [
      "2024/11/25 19:18:25 INFO mlflow.tracking.fluent: Experiment with name 'Iris_Classification' does not exist. Creating a new experiment.\n",
      "2024/11/25 19:18:27 WARNING mlflow.models.model: Model logged without a signature and input example. Please set `input_example` parameter when logging the model to auto infer the model signature.\n"
     ]
    },
    {
     "name": "stdout",
     "output_type": "stream",
     "text": [
      "Model logged in MLflow.\n",
      "[2024-11-25 19:18:28 +0530] [13818] [INFO] Starting gunicorn 23.0.0\n",
      "[2024-11-25 19:18:28 +0530] [13818] [INFO] Listening at: http://127.0.0.1:5000 (13818)\n",
      "[2024-11-25 19:18:28 +0530] [13818] [INFO] Using worker: sync\n",
      "[2024-11-25 19:18:28 +0530] [13819] [INFO] Booting worker with pid: 13819\n",
      "[2024-11-25 19:18:28 +0530] [13820] [INFO] Booting worker with pid: 13820\n",
      "[2024-11-25 19:18:28 +0530] [13821] [INFO] Booting worker with pid: 13821\n",
      "[2024-11-25 19:18:28 +0530] [13830] [INFO] Booting worker with pid: 13830\n",
      "^C\n",
      "[2024-11-25 19:18:34 +0530] [13818] [INFO] Handling signal: int\n",
      "[2024-11-25 19:18:34 +0530] [13820] [INFO] Worker exiting (pid: 13820)\n",
      "[2024-11-25 19:18:34 +0530] [13821] [INFO] Worker exiting (pid: 13821)\n",
      "[2024-11-25 19:18:34 +0530] [13830] [INFO] Worker exiting (pid: 13830)\n",
      "[2024-11-25 19:18:34 +0530] [13819] [INFO] Worker exiting (pid: 13819)\n"
     ]
    }
   ],
   "source": [
    "from sklearn.datasets import load_iris\n",
    "from sklearn.model_selection import train_test_split\n",
    "from sklearn.preprocessing import StandardScaler\n",
    "import pandas as pd\n",
    "\n",
    "\n",
    "iris = load_iris()\n",
    "X = pd.DataFrame(iris.data, columns=iris.feature_names)\n",
    "y = iris.target\n",
    "\n",
    "X_train, X_test, y_train, y_test = train_test_split(X, y, test_size=0.2, random_state=42)\n",
    "\n",
    "scaler = StandardScaler()\n",
    "X_train = scaler.fit_transform(X_train)\n",
    "X_test = scaler.transform(X_test)\n",
    "from sklearn.ensemble import RandomForestClassifier\n",
    "from sklearn.metrics import accuracy_score\n",
    "\n",
    "\n",
    "\n",
    "rf_model = RandomForestClassifier(random_state=42)\n",
    "rf_model.fit(X_train, y_train)\n",
    "\n",
    "\n",
    "y_pred = rf_model.predict(X_test)\n",
    "print(\"Accuracy:\", accuracy_score(y_test, y_pred))\n",
    "import logging\n",
    "\n",
    "\n",
    "logging.basicConfig(filename='iris_model.log', level=logging.INFO, \n",
    "                    format='%(asctime)s - %(levelname)s - %(message)s')\n",
    "\n",
    "def log_predictions_and_errors(inputs, predictions, true_values=None):\n",
    "    try:\n",
    "        logging.info(f\"Predictions: {predictions}\")\n",
    "        if true_values is not None:\n",
    "            for pred, true in zip(predictions, true_values):\n",
    "                if pred != true:\n",
    "                    logging.warning(f\"Mismatch - Prediction: {pred}, Actual: {true}\")\n",
    "    except Exception as e:\n",
    "        logging.error(f\"Error during logging: {e}\")\n",
    "\n",
    "log_predictions_and_errors(X_test, y_pred, y_test)\n",
    "import mlflow\n",
    "from mlflow.sklearn import log_model\n",
    "\n",
    "mlflow.set_experiment(\"Iris_Classification\")\n",
    "\n",
    "with mlflow.start_run():\n",
    "    mlflow.log_param(\"model_type\", \"RandomForestClassifier\")\n",
    "    mlflow.log_param(\"random_state\", 42)\n",
    "    \n",
    "    mlflow.log_metric(\"accuracy\", accuracy_score(y_test, y_pred))\n",
    "    \n",
    "    log_model(rf_model, artifact_path=\"model\")\n",
    "    \n",
    "    print(\"Model logged in MLflow.\")\n",
    "mlflow.end_run()\n",
    "!mlflow ui"
   ]
  }
 ],
 "metadata": {
  "kernelspec": {
   "display_name": "mlops",
   "language": "python",
   "name": "python3"
  },
  "language_info": {
   "codemirror_mode": {
    "name": "ipython",
    "version": 3
   },
   "file_extension": ".py",
   "mimetype": "text/x-python",
   "name": "python",
   "nbconvert_exporter": "python",
   "pygments_lexer": "ipython3",
   "version": "3.13.0"
  }
 },
 "nbformat": 4,
 "nbformat_minor": 2
}
