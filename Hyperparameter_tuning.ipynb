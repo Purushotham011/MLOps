{
  "nbformat": 4,
  "nbformat_minor": 0,
  "metadata": {
    "colab": {
      "provenance": [],
      "authorship_tag": "ABX9TyPjQ9v+okQN3FzW6uCBH/6t",
      "include_colab_link": true
    },
    "kernelspec": {
      "name": "python3",
      "display_name": "Python 3"
    },
    "language_info": {
      "name": "python"
    }
  },
  "cells": [
    {
      "cell_type": "markdown",
      "metadata": {
        "id": "view-in-github",
        "colab_type": "text"
      },
      "source": [
        "<a href=\"https://colab.research.google.com/github/Purushotham011/MLOps/blob/main/Hyperparameter_tuning.ipynb\" target=\"_parent\"><img src=\"https://colab.research.google.com/assets/colab-badge.svg\" alt=\"Open In Colab\"/></a>"
      ]
    },
    {
      "cell_type": "markdown",
      "source": [
        "#Step 1 : Import necessary libraries"
      ],
      "metadata": {
        "id": "1ruueN1AW6y9"
      }
    },
    {
      "cell_type": "code",
      "execution_count": 2,
      "metadata": {
        "id": "qlzkcqfXROYK"
      },
      "outputs": [],
      "source": [
        "from sklearn.model_selection import cross_val_score, KFold\n",
        "from sklearn.svm import SVC\n",
        "from sklearn.datasets import load_iris"
      ]
    },
    {
      "cell_type": "markdown",
      "source": [
        "#Step 2: Load the dataset"
      ],
      "metadata": {
        "id": "v3t7cl5EXOZ8"
      }
    },
    {
      "cell_type": "code",
      "source": [
        "iris = load_iris()\n",
        "X, y = iris.data, iris.target"
      ],
      "metadata": {
        "id": "PbR-HkawSGKf"
      },
      "execution_count": 3,
      "outputs": []
    },
    {
      "cell_type": "markdown",
      "source": [
        "#Step 3: Create SVM classifier"
      ],
      "metadata": {
        "id": "GgquCqRLXaqe"
      }
    },
    {
      "cell_type": "code",
      "source": [
        "svm_classifier = SVC(kernel='linear')"
      ],
      "metadata": {
        "id": "7VET7EQySlEt"
      },
      "execution_count": 4,
      "outputs": []
    },
    {
      "cell_type": "markdown",
      "source": [
        "#Step 4:Define the number of folds for cross-validation"
      ],
      "metadata": {
        "id": "_3IwTr0BXfUQ"
      }
    },
    {
      "cell_type": "code",
      "source": [
        "num_folds = 5\n",
        "kf = KFold(n_splits=num_folds, shuffle=True, random_state=42)"
      ],
      "metadata": {
        "id": "mMYwAc0DSt_c"
      },
      "execution_count": 5,
      "outputs": []
    },
    {
      "cell_type": "markdown",
      "source": [
        "#Step 5: Perform k-fold cross-validation"
      ],
      "metadata": {
        "id": "OictQMrpXq-T"
      }
    },
    {
      "cell_type": "code",
      "source": [
        "cross_val_results = cross_val_score(svm_classifier, X, y, cv=kf)"
      ],
      "metadata": {
        "id": "BUOrSc-xS7Uy"
      },
      "execution_count": 7,
      "outputs": []
    },
    {
      "cell_type": "markdown",
      "source": [
        "#Step 6: Evaluation metrics"
      ],
      "metadata": {
        "id": "qi5ddXnyX-ev"
      }
    },
    {
      "cell_type": "code",
      "source": [
        "print(f'Cross-Validation Results (Accuracy): {cross_val_results}')\n",
        "print(f'Mean Accuracy: {cross_val_results.mean()}')"
      ],
      "metadata": {
        "colab": {
          "base_uri": "https://localhost:8080/"
        },
        "id": "34B9-TYEWnbI",
        "outputId": "adca7a9c-d4c8-4365-81ac-09d87ea85ddf"
      },
      "execution_count": 8,
      "outputs": [
        {
          "output_type": "stream",
          "name": "stdout",
          "text": [
            "Cross-Validation Results (Accuracy): [1.         1.         0.96666667 0.93333333 0.96666667]\n",
            "Mean Accuracy: 0.9733333333333334\n"
          ]
        }
      ]
    }
  ]
}